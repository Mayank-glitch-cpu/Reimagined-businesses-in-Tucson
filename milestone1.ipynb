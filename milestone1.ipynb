{
 "cells": [
  {
   "cell_type": "code",
   "execution_count": 1,
   "metadata": {},
   "outputs": [],
   "source": [
    "import pyspark"
   ]
  },
  {
   "cell_type": "code",
   "execution_count": 2,
   "metadata": {},
   "outputs": [],
   "source": [
    "from pyspark.sql import SparkSession"
   ]
  },
  {
   "cell_type": "code",
   "execution_count": 3,
   "metadata": {},
   "outputs": [],
   "source": [
    "spark= SparkSession.builder.appName(\"yelp\").getOrCreate()"
   ]
  },
  {
   "cell_type": "code",
   "execution_count": 4,
   "metadata": {},
   "outputs": [
    {
     "data": {
      "text/html": [
       "\n",
       "            <div>\n",
       "                <p><b>SparkSession - in-memory</b></p>\n",
       "                \n",
       "        <div>\n",
       "            <p><b>SparkContext</b></p>\n",
       "\n",
       "            <p><a href=\"http://DESKTOP-OR4FH2R:4040\">Spark UI</a></p>\n",
       "\n",
       "            <dl>\n",
       "              <dt>Version</dt>\n",
       "                <dd><code>v3.5.3</code></dd>\n",
       "              <dt>Master</dt>\n",
       "                <dd><code>local[*]</code></dd>\n",
       "              <dt>AppName</dt>\n",
       "                <dd><code>yelp</code></dd>\n",
       "            </dl>\n",
       "        </div>\n",
       "        \n",
       "            </div>\n",
       "        "
      ],
      "text/plain": [
       "<pyspark.sql.session.SparkSession at 0x14674931d90>"
      ]
     },
     "execution_count": 4,
     "metadata": {},
     "output_type": "execute_result"
    }
   ],
   "source": [
    "spark"
   ]
  },
  {
   "cell_type": "code",
   "execution_count": 8,
   "metadata": {},
   "outputs": [],
   "source": [
    "yelp_df= spark.read.json('yelp_dataset\\yelp_academic_dataset_business.json')"
   ]
  },
  {
   "cell_type": "code",
   "execution_count": 9,
   "metadata": {},
   "outputs": [
    {
     "name": "stdout",
     "output_type": "stream",
     "text": [
      "+--------------------+--------------------+--------------------+--------------------+-------------+--------------------+-------+----------+------------+--------------------+-----------+------------+-----+-----+\n",
      "|             address|          attributes|         business_id|          categories|         city|               hours|is_open|  latitude|   longitude|                name|postal_code|review_count|stars|state|\n",
      "+--------------------+--------------------+--------------------+--------------------+-------------+--------------------+-------+----------+------------+--------------------+-----------+------------+-----+-----+\n",
      "|1616 Chapala St, ...|{NULL, NULL, NULL...|Pns2l4eNsfO8kk83d...|Doctors, Traditio...|Santa Barbara|                NULL|      0|34.4266787|-119.7111968|Abby Rappoport, L...|      93101|           7|  5.0|   CA|\n",
      "|87 Grasso Plaza S...|{NULL, NULL, NULL...|mpf3x-BjTdTEA3yCZ...|Shipping Centers,...|       Affton|{8:0-18:30, 0:0-0...|      1| 38.551126|  -90.335695|       The UPS Store|      63123|          15|  3.0|   MO|\n",
      "|5255 E Broadway Blvd|{NULL, NULL, NULL...|tUFrWirKiKi_TAnsV...|Department Stores...|       Tucson|{8:0-23:0, 8:0-22...|      0| 32.223236| -110.880452|              Target|      85711|          22|  3.5|   AZ|\n",
      "|         935 Race St|{NULL, NULL, u'no...|MTSW4McQd7CbVtyjq...|Restaurants, Food...| Philadelphia|{7:0-21:0, 7:0-20...|      1|39.9555052| -75.1555641|  St Honore Pastries|      19107|          80|  4.0|   PA|\n",
      "|       101 Walnut St|{NULL, NULL, NULL...|mWMc6_wTdE0EUBKIG...|Brewpubs, Breweri...|   Green Lane|{12:0-22:0, NULL,...|      1|40.3381827| -75.4716585|Perkiomen Valley ...|      18054|          13|  4.5|   PA|\n",
      "+--------------------+--------------------+--------------------+--------------------+-------------+--------------------+-------+----------+------------+--------------------+-----------+------------+-----+-----+\n",
      "only showing top 5 rows\n",
      "\n"
     ]
    }
   ],
   "source": [
    "yelp_df.show(5)"
   ]
  },
  {
   "cell_type": "code",
   "execution_count": 10,
   "metadata": {},
   "outputs": [],
   "source": [
    "# Now we only want the data from the state of Arizona \n",
    "yelp_df=yelp_df.filter(yelp_df.state =='AZ')"
   ]
  },
  {
   "cell_type": "code",
   "execution_count": 13,
   "metadata": {},
   "outputs": [
    {
     "name": "stdout",
     "output_type": "stream",
     "text": [
      "+--------------------+--------------------+--------------------+--------------------+----------+--------------------+-------+----------+------------+--------------------+-----------+------------+-----+-----+\n",
      "|             address|          attributes|         business_id|          categories|      city|               hours|is_open|  latitude|   longitude|                name|postal_code|review_count|stars|state|\n",
      "+--------------------+--------------------+--------------------+--------------------+----------+--------------------+-------+----------+------------+--------------------+-----------+------------+-----+-----+\n",
      "|5255 E Broadway Blvd|{NULL, NULL, NULL...|tUFrWirKiKi_TAnsV...|Department Stores...|    Tucson|{8:0-23:0, 8:0-22...|      0| 32.223236| -110.880452|              Target|      85711|          22|  3.5|   AZ|\n",
      "|     625 N Stone Ave|{NULL, NULL, NULL...|rBmpy_Y1UbBx8ggHl...|Automotive, Auto ...|    Tucson|{8:0-17:0, 0:0-0:...|      1|32.2298719|-110.9723419|Arizona Truck Out...|      85705|          10|  4.5|   AZ|\n",
      "|1625 W Valencia R...|{NULL, NULL, 'bee...|wghnIlMb_i5U46HMB...|Restaurants, Chinese|    Tucson|{11:0-21:0, 11:0-...|      0|32.1323047|-110.9999851|China Dragon Rest...|      85746|          23|  3.0|   AZ|\n",
      "|1070 E Tucson Mar...|{NULL, NULL, NULL...|txyXRytGjwOXvS8s4...|Vitamins & Supple...|    Tucson|{7:0-19:0, 0:0-0:...|      1| 32.186794| -110.954765|       Smoothie King|      85713|          29|  3.0|   AZ|\n",
      "|     4158 E Grant Rd|                NULL|eYxGFkxo6m3SYGVTh...|Towing, Hotels & ...|    Tucson|{8:30-18:0, 8:30-...|      1|32.2503237|-110.9036553|Big Boyz Toyz Mot...|      85712|           8|  4.5|   AZ|\n",
      "|7401 N La Cholla ...|{NULL, NULL, u'fu...|x9K0RfZaT_zlw6Dkl...|Italian, Restaurants|    Tucson|                NULL|      0| 32.221667| -110.925833|Gavi Italian Rest...|      85707|           9|  3.5|   AZ|\n",
      "|12112 N Rancho Vi...|{NULL, NULL, NULL...|2Bi3ef7c0CrLxHD_-...|Printing Services...|Oro Valley|{8:30-18:0, 8:30-...|      1|32.4263727|-110.9592405|     AIM Mail Center|      85755|          13|  3.0|   AZ|\n",
      "|4146 E Speedway Blvd|{NULL, NULL, NULL...|luGY5CJlb4CJ3LrBc...|Furniture Stores,...|    Tucson|{9:30-18:0, 9:30-...|      1|32.2358661|-110.9036755|Desert Design Center|      85712|           5|  3.0|   AZ|\n",
      "|7955 E Broadway B...|{NULL, NULL, NULL...|wEfK2HIYNzkA1QYfU...|Hardware Stores, ...|    Tucson|{7:0-18:0, 9:0-17...|      1|32.2215422|-110.8221011|            Leslie's|      85710|          15|  2.5|   AZ|\n",
      "|7250 North La Cho...|{NULL, NULL, u'no...|anLQj9AM8vjbcLSIE...|  Pizza, Restaurants|    Tucson|                NULL|      1|32.3385723|-111.0107602|       Papa Murphy's|      85741|          22|  4.0|   AZ|\n",
      "+--------------------+--------------------+--------------------+--------------------+----------+--------------------+-------+----------+------------+--------------------+-----------+------------+-----+-----+\n",
      "only showing top 10 rows\n",
      "\n"
     ]
    }
   ],
   "source": [
    "yelp_df.show(10)"
   ]
  },
  {
   "cell_type": "code",
   "execution_count": 15,
   "metadata": {},
   "outputs": [
    {
     "name": "stdout",
     "output_type": "stream",
     "text": [
      "+-------------------------------------------------------------------------------------------------------+\n",
      "|categories                                                                                             |\n",
      "+-------------------------------------------------------------------------------------------------------+\n",
      "|Department Stores, Shopping, Fashion, Home & Garden, Electronics, Furniture Stores                     |\n",
      "|Automotive, Auto Parts & Supplies, Auto Customization                                                  |\n",
      "|Restaurants, Chinese                                                                                   |\n",
      "|Vitamins & Supplements, Ice Cream & Frozen Yogurt, Food, Juice Bars & Smoothies, Shopping              |\n",
      "|Towing, Hotels & Travel, Automotive, Motorcycle Rental, Motorcycle Gear, Shopping                      |\n",
      "|Italian, Restaurants                                                                                   |\n",
      "|Printing Services, Local Services, Shipping Centers, Couriers & Delivery Services, Notaries            |\n",
      "|Furniture Stores, Shopping, Home & Garden                                                              |\n",
      "|Hardware Stores, Home Services, Hot Tub & Pool, Pool & Hot Tub Service, Home & Garden, Shopping        |\n",
      "|Pizza, Restaurants                                                                                     |\n",
      "|Bars, Restaurants, Sports Bars, Nightlife                                                              |\n",
      "|Pain Management, Doctors, Health & Medical, Osteopathic Physicians                                     |\n",
      "|Waxing, Hair Removal, Skin Care, Eyelash Service, Beauty & Spas                                        |\n",
      "|Apartments, Roofing, Real Estate, Home Services                                                        |\n",
      "|Auto Glass Services, Automotive, Windshield Installation & Repair                                      |\n",
      "|Carpeting, Shopping, Home Services, Flooring, Rugs, Home & Garden                                      |\n",
      "|Toy Stores, Shopping                                                                                   |\n",
      "|Beauty & Spas, Hair Removal, Day Spas, Skin Care                                                       |\n",
      "|Sports Bars, Bars, Nightlife, Italian, Restaurants, Pizza                                              |\n",
      "|Discount Store, Shopping, Event Planning & Services, Party Supplies, Wholesalers, Professional Services|\n",
      "+-------------------------------------------------------------------------------------------------------+\n",
      "only showing top 20 rows\n",
      "\n"
     ]
    }
   ],
   "source": [
    "yeld_df_c= yelp_df.select('categories').show(truncate=False)"
   ]
  },
  {
   "cell_type": "code",
   "execution_count": 91,
   "metadata": {},
   "outputs": [
    {
     "name": "stdout",
     "output_type": "stream",
     "text": [
      "+--------------------+--------------------+--------------------+--------------------+----------+--------------------+-------+-------------+--------------+--------------------+-----------+------------+-----+-----+\n",
      "|             address|          attributes|         business_id|          categories|      city|               hours|is_open|     latitude|     longitude|                name|postal_code|review_count|stars|state|\n",
      "+--------------------+--------------------+--------------------+--------------------+----------+--------------------+-------+-------------+--------------+--------------------+-----------+------------+-----+-----+\n",
      "|5255 E Broadway Blvd|{NULL, NULL, NULL...|tUFrWirKiKi_TAnsV...|Department Stores...|    Tucson|{8:0-23:0, 8:0-22...|      0|    32.223236|   -110.880452|              Target|      85711|          22|  3.5|   AZ|\n",
      "|1070 E Tucson Mar...|{NULL, NULL, NULL...|txyXRytGjwOXvS8s4...|Vitamins & Supple...|    Tucson|{7:0-19:0, 0:0-0:...|      1|    32.186794|   -110.954765|       Smoothie King|      85713|          29|  3.0|   AZ|\n",
      "|     4158 E Grant Rd|                NULL|eYxGFkxo6m3SYGVTh...|Towing, Hotels & ...|    Tucson|{8:30-18:0, 8:30-...|      1|   32.2503237|  -110.9036553|Big Boyz Toyz Mot...|      85712|           8|  4.5|   AZ|\n",
      "|4146 E Speedway Blvd|{NULL, NULL, NULL...|luGY5CJlb4CJ3LrBc...|Furniture Stores,...|    Tucson|{9:30-18:0, 9:30-...|      1|   32.2358661|  -110.9036755|Desert Design Center|      85712|           5|  3.0|   AZ|\n",
      "|7955 E Broadway B...|{NULL, NULL, NULL...|wEfK2HIYNzkA1QYfU...|Hardware Stores, ...|    Tucson|{7:0-18:0, 9:0-17...|      1|   32.2215422|  -110.8221011|            Leslie's|      85710|          15|  2.5|   AZ|\n",
      "|   11005 N Oracle Rd|{NULL, NULL, NULL...|hdRtVNk-G9Ep4eaHP...|Carpeting, Shoppi...|Oro Valley|{10:0-15:0, 0:0-0...|      1|32.4058647729|-110.949274038|Carpet One Floor ...|      85737|           7|  4.0|   AZ|\n",
      "|5355 E Broadway Blvd|{NULL, NULL, NULL...|X0V_PdBTS_SwNxMY2...|Toy Stores, Shopping|    Tucson|                NULL|      0|   32.2226061|   -110.877255|           Toys R Us|      85711|          12|  3.5|   AZ|\n",
      "|7125 E Golf Links Rd|{NULL, NULL, NULL...|WveinioyAZg3dtt0z...|Discount Store, S...|    Tucson|{8:0-20:0, 0:0-0:...|      1|    32.193246|   -110.839627|99 Cents Only Stores|      85730|          17|  4.0|   AZ|\n",
      "|        45 S 6th Ave|{NULL, NULL, NULL...|1vmx7_L210UBbOWLz...|Electronics, Musi...|    Tucson|{9:0-18:0, 9:0-18...|      1|   32.2213692|  -110.9683558| Chicago Music Store|      85701|          44|  4.0|   AZ|\n",
      "|   756 E. Ft. Lowell|{NULL, NULL, NULL...|Ot4bRWWO681vXZIgn...|Shopping, Home De...|    Tucson|{7:0-17:0, 0:0-0:...|      1|   32.2643502|  -110.9593721|        Arizona Tile|      85719|          16|  4.5|   AZ|\n",
      "+--------------------+--------------------+--------------------+--------------------+----------+--------------------+-------+-------------+--------------+--------------------+-----------+------------+-----+-----+\n",
      "only showing top 10 rows\n",
      "\n"
     ]
    }
   ],
   "source": [
    "# now i will filter buisness in category shopping\n",
    "shopping_df= yelp_df.filter(yelp_df.categories.contains('Shopping'))\n",
    "shopping_df.show(10)"
   ]
  },
  {
   "cell_type": "code",
   "execution_count": 25,
   "metadata": {},
   "outputs": [],
   "source": [
    "# now i will write spark queries to find the top 10 cities with the most businesses in the 'Shopping' category\n",
    "shopping_df.createOrReplaceTempView('shopping')"
   ]
  },
  {
   "cell_type": "code",
   "execution_count": null,
   "metadata": {},
   "outputs": [
    {
     "name": "stdout",
     "output_type": "stream",
     "text": [
      "+---------------------------------------------------------------------------------------------------------------------------------------------------------------------------------------------------------------------------------------------------------------------------------------------------------------------------------+\n",
      "|attributes                                                                                                                                                                                                                                                                                                                       |\n",
      "+---------------------------------------------------------------------------------------------------------------------------------------------------------------------------------------------------------------------------------------------------------------------------------------------------------------------------------+\n",
      "|{NULL, NULL, NULL, NULL, NULL, NULL, NULL, True, NULL, True, {'garage': False, 'street': False, 'validated': False, 'lot': True, 'valet': False}, False, False, False, NULL, NULL, False, NULL, NULL, NULL, NULL, NULL, False, False, NULL, NULL, NULL, False, NULL, NULL, False, NULL, 2, False, NULL, False, NULL, True, u'no'}|\n",
      "|{NULL, NULL, NULL, NULL, NULL, NULL, NULL, True, NULL, True, {u'valet': False, u'garage': False, u'street': None, u'lot': True, u'validated': False}, NULL, NULL, NULL, NULL, NULL, NULL, NULL, NULL, NULL, NULL, NULL, NULL, NULL, NULL, NULL, NULL, NULL, NULL, NULL, True, NULL, 2, NULL, NULL, True, NULL, False, u'free'}   |\n",
      "|NULL                                                                                                                                                                                                                                                                                                                             |\n",
      "|{NULL, NULL, NULL, NULL, NULL, NULL, NULL, NULL, NULL, True, {'garage': False, 'street': False, 'validated': False, 'lot': False, 'valet': False}, NULL, NULL, NULL, NULL, NULL, NULL, NULL, NULL, NULL, NULL, NULL, NULL, NULL, NULL, NULL, NULL, NULL, NULL, NULL, NULL, NULL, 3, NULL, NULL, NULL, NULL, NULL, NULL}          |\n",
      "|{NULL, NULL, NULL, NULL, NULL, NULL, NULL, True, NULL, True, None, NULL, NULL, NULL, NULL, NULL, NULL, NULL, NULL, NULL, NULL, NULL, NULL, NULL, NULL, NULL, NULL, NULL, NULL, NULL, NULL, NULL, 2, NULL, NULL, NULL, NULL, NULL, NULL}                                                                                          |\n",
      "|{NULL, NULL, NULL, NULL, NULL, NULL, NULL, True, NULL, True, {'garage': False, 'street': False, 'validated': False, 'lot': True, 'valet': False}, NULL, NULL, NULL, NULL, NULL, NULL, NULL, NULL, NULL, NULL, NULL, NULL, NULL, NULL, NULL, NULL, NULL, NULL, NULL, NULL, NULL, 2, NULL, NULL, NULL, NULL, NULL, NULL}           |\n",
      "|{NULL, NULL, NULL, NULL, NULL, NULL, NULL, True, False, True, {'garage': False, 'street': False, 'validated': False, 'lot': True, 'valet': False}, NULL, NULL, NULL, NULL, NULL, NULL, NULL, NULL, NULL, NULL, NULL, NULL, NULL, NULL, NULL, NULL, NULL, NULL, NULL, NULL, NULL, 1, NULL, NULL, NULL, NULL, NULL, NULL}          |\n",
      "|{NULL, NULL, NULL, NULL, NULL, NULL, NULL, True, NULL, True, {'garage': False, 'street': True, 'validated': False, 'lot': True, 'valet': False}, NULL, NULL, NULL, NULL, NULL, NULL, NULL, NULL, NULL, NULL, NULL, NULL, NULL, NULL, NULL, NULL, NULL, NULL, NULL, NULL, NULL, 2, NULL, NULL, NULL, NULL, NULL, NULL}            |\n",
      "|{NULL, NULL, NULL, NULL, NULL, NULL, NULL, NULL, NULL, True, {'garage': False, 'street': False, 'validated': False, 'lot': False, 'valet': False}, NULL, NULL, NULL, NULL, NULL, NULL, NULL, NULL, NULL, NULL, NULL, NULL, NULL, NULL, NULL, NULL, NULL, NULL, NULL, False, NULL, 4, NULL, NULL, True, NULL, NULL, NULL}         |\n",
      "|{NULL, NULL, NULL, NULL, NULL, NULL, NULL, NULL, NULL, True, NULL, True, NULL, NULL, NULL, NULL, NULL, NULL, NULL, NULL, NULL, NULL, NULL, NULL, NULL, NULL, NULL, NULL, NULL, NULL, NULL, NULL, NULL, NULL, NULL, NULL, NULL, NULL, NULL}                                                                                       |\n",
      "|{NULL, NULL, NULL, NULL, NULL, NULL, NULL, True, NULL, True, {'garage': False, 'street': True, 'validated': False, 'lot': False, 'valet': False}, False, NULL, NULL, NULL, NULL, NULL, NULL, NULL, NULL, NULL, NULL, NULL, NULL, NULL, NULL, NULL, NULL, NULL, NULL, NULL, NULL, 4, NULL, NULL, NULL, NULL, NULL, NULL}          |\n",
      "|{NULL, NULL, NULL, NULL, NULL, NULL, NULL, NULL, NULL, True, {'garage': False, 'street': False, 'validated': False, 'lot': False, 'valet': False}, NULL, NULL, NULL, NULL, NULL, NULL, NULL, NULL, NULL, NULL, NULL, NULL, NULL, NULL, NULL, NULL, NULL, NULL, NULL, True, NULL, NULL, NULL, NULL, False, NULL, NULL, NULL}      |\n",
      "|{NULL, NULL, NULL, NULL, NULL, NULL, NULL, True, NULL, True, {'garage': False, 'street': False, 'validated': False, 'lot': False, 'valet': False}, NULL, NULL, NULL, NULL, NULL, NULL, NULL, NULL, NULL, NULL, NULL, NULL, NULL, NULL, NULL, NULL, NULL, NULL, NULL, NULL, NULL, 2, NULL, NULL, NULL, NULL, NULL, NULL}          |\n",
      "|{NULL, NULL, NULL, NULL, NULL, NULL, NULL, True, NULL, True, {'garage': False, 'street': False, 'validated': False, 'lot': True, 'valet': False}, NULL, NULL, NULL, NULL, NULL, NULL, NULL, NULL, NULL, NULL, NULL, NULL, NULL, NULL, NULL, NULL, NULL, NULL, NULL, NULL, NULL, 2, NULL, NULL, NULL, NULL, NULL, NULL}           |\n",
      "|{True, NULL, NULL, NULL, NULL, NULL, NULL, False, NULL, True, {u'valet': False, u'garage': False, u'street': False, u'lot': True, u'validated': False}, True, NULL, NULL, NULL, NULL, NULL, NULL, NULL, NULL, NULL, NULL, NULL, NULL, NULL, NULL, NULL, NULL, NULL, NULL, NULL, NULL, 3, NULL, NULL, NULL, NULL, NULL, NULL}     |\n",
      "|{NULL, NULL, NULL, NULL, NULL, NULL, NULL, True, NULL, True, {'garage': False, 'street': False, 'validated': False, 'lot': True, 'valet': False}, False, NULL, NULL, NULL, NULL, NULL, NULL, NULL, NULL, NULL, NULL, NULL, NULL, NULL, NULL, NULL, NULL, NULL, NULL, NULL, NULL, 2, NULL, NULL, NULL, NULL, True, NULL}          |\n",
      "|{NULL, NULL, NULL, NULL, NULL, NULL, NULL, False, NULL, True, {'garage': False, 'street': False, 'validated': False, 'lot': True, 'valet': False}, NULL, NULL, NULL, NULL, NULL, NULL, NULL, NULL, NULL, NULL, NULL, NULL, NULL, NULL, NULL, NULL, NULL, NULL, NULL, NULL, NULL, 1, NULL, NULL, NULL, NULL, NULL, NULL}          |\n",
      "|{NULL, NULL, NULL, NULL, NULL, NULL, NULL, True, NULL, True, {'garage': False, 'street': False, 'validated': False, 'lot': True, 'valet': False}, NULL, NULL, NULL, NULL, NULL, NULL, NULL, NULL, NULL, NULL, NULL, NULL, NULL, NULL, NULL, NULL, NULL, NULL, NULL, NULL, NULL, 1, NULL, NULL, False, NULL, NULL, NULL}          |\n",
      "|{NULL, NULL, NULL, NULL, NULL, NULL, NULL, True, NULL, True, {'garage': False, 'street': False, 'validated': False, 'lot': True, 'valet': False}, NULL, False, NULL, NULL, NULL, NULL, NULL, NULL, NULL, NULL, NULL, NULL, NULL, NULL, NULL, NULL, NULL, NULL, NULL, False, NULL, 2, NULL, NULL, False, NULL, NULL, NULL}        |\n",
      "|{NULL, NULL, NULL, NULL, NULL, NULL, NULL, NULL, NULL, True, NULL, False, NULL, NULL, NULL, NULL, NULL, NULL, NULL, NULL, NULL, NULL, NULL, NULL, NULL, NULL, NULL, NULL, NULL, NULL, NULL, NULL, NULL, NULL, NULL, NULL, NULL, NULL, NULL}                                                                                      |\n",
      "+---------------------------------------------------------------------------------------------------------------------------------------------------------------------------------------------------------------------------------------------------------------------------------------------------------------------------------+\n",
      "only showing top 20 rows\n",
      "\n"
     ]
    }
   ],
   "source": [
    "spark.sql('''\n",
    "select attributes from shopping\n",
    "         where city='Tucson' \n",
    "          ''').show(truncate=False)"
   ]
  },
  {
   "cell_type": "code",
   "execution_count": 109,
   "metadata": {},
   "outputs": [
    {
     "name": "stdout",
     "output_type": "stream",
     "text": [
      "+-----------------------------------------------------------------------------+\n",
      "|hours                                                                        |\n",
      "+-----------------------------------------------------------------------------+\n",
      "|{7:0-19:0, 0:0-0:0, 9:0-20:0, 11:0-18:0, 7:0-19:0, 7:0-21:0, 7:0-19:0}       |\n",
      "|{8:30-18:0, 8:30-18:0, 9:0-16:0, NULL, 8:30-18:0, 8:30-18:0, 8:30-18:0}      |\n",
      "|{9:30-18:0, 9:30-18:0, 9:30-18:0, 12:0-17:0, 9:30-18:0, 9:30-18:0, 9:30-18:0}|\n",
      "|{7:0-18:0, 9:0-17:0, 9:0-18:0, 10:0-17:0, 7:0-18:0, 7:0-18:0, 7:0-18:0}      |\n",
      "|{8:0-20:0, 0:0-0:0, 8:0-20:0, 8:0-21:0, 8:0-20:0, 7:0-22:0, 7:0-22:0}        |\n",
      "|{9:0-18:0, 9:0-18:0, 10:0-17:0, NULL, 9:0-18:0, 9:0-18:0, 9:0-18:0}          |\n",
      "|{7:0-17:0, 0:0-0:0, NULL, NULL, 7:0-17:0, 7:0-17:0, 7:0-17:0}                |\n",
      "|{9:0-16:0, 9:0-16:0, NULL, NULL, 9:0-16:0, 9:0-16:0, 9:0-16:0}               |\n",
      "|{10:0-16:0, NULL, 10:0-16:0, NULL, 10:0-16:0, 10:0-16:0, 10:0-16:0}          |\n",
      "|{8:0-17:0, 8:0-17:0, 8:0-13:0, NULL, 8:0-17:0, 8:0-17:0, 8:0-17:0}           |\n",
      "|{9:0-19:0, 9:0-19:0, 9:0-19:0, 10:0-18:30, 9:0-19:0, 9:0-19:0, 9:0-19:0}     |\n",
      "|{8:0-21:0, 8:0-20:0, 8:0-21:0, 9:0-18:0, 8:0-20:0, 8:0-20:0, 8:0-20:0}       |\n",
      "|{8:0-17:0, 8:0-17:0, 8:0-17:0, 8:0-17:0, 8:0-17:0, 8:0-17:0, 8:0-17:0}       |\n",
      "|{9:0-20:0, 9:0-20:0, 9:0-20:0, 9:0-18:0, 9:0-20:0, 9:0-20:0, 9:0-20:0}       |\n",
      "|{8:0-21:0, 0:0-0:0, 9:0-19:0, 8:0-17:0, 8:0-18:0, 9:0-19:0, 8:0-21:0}        |\n",
      "|{7:0-18:0, 7:0-18:0, 8:0-16:0, NULL, 7:0-18:0, 7:0-18:0, 7:0-18:0}           |\n",
      "|{8:30-17:0, 8:30-17:0, 8:30-17:0, 8:30-17:0, 8:30-17:0, 8:30-17:0, 8:30-17:0}|\n",
      "|{7:0-18:0, 7:0-18:0, NULL, NULL, 7:0-18:0, 7:0-18:0, 7:0-18:0}               |\n",
      "|{9:0-15:0, 9:0-15:0, NULL, NULL, 9:0-15:0, 9:0-15:0, 9:0-15:0}               |\n",
      "|{9:0-18:0, NULL, 9:0-18:0, NULL, 9:0-18:0, 9:0-18:0, 9:0-18:0}               |\n",
      "+-----------------------------------------------------------------------------+\n",
      "only showing top 20 rows\n",
      "\n"
     ]
    }
   ],
   "source": [
    "spark.sql('''\n",
    "select hours from shopping\n",
    "         where city='Tucson'  and is_open=1\n",
    "          ''').show(truncate=False)"
   ]
  },
  {
   "cell_type": "code",
   "execution_count": 99,
   "metadata": {},
   "outputs": [
    {
     "name": "stdout",
     "output_type": "stream",
     "text": [
      "+-----------------------------------------------------------------------------------------------------------------------------------------------------------------------------------------------------------------------------------------------------------------------------------------------------------------------------+-----+\n",
      "|attributes                                                                                                                                                                                                                                                                                                                   |stars|\n",
      "+-----------------------------------------------------------------------------------------------------------------------------------------------------------------------------------------------------------------------------------------------------------------------------------------------------------------------------+-----+\n",
      "|NULL                                                                                                                                                                                                                                                                                                                         |4.5  |\n",
      "|{NULL, NULL, NULL, NULL, NULL, NULL, NULL, NULL, NULL, True, {'garage': False, 'street': False, 'validated': False, 'lot': False, 'valet': False}, NULL, NULL, NULL, NULL, NULL, NULL, NULL, NULL, NULL, NULL, NULL, NULL, NULL, NULL, NULL, NULL, NULL, NULL, NULL, False, NULL, 4, NULL, NULL, True, NULL, NULL, NULL}     |4.5  |\n",
      "|{NULL, NULL, NULL, NULL, NULL, NULL, NULL, True, NULL, True, {'garage': False, 'street': True, 'validated': False, 'lot': False, 'valet': False}, False, NULL, NULL, NULL, NULL, NULL, NULL, NULL, NULL, NULL, NULL, NULL, NULL, NULL, NULL, NULL, NULL, NULL, NULL, NULL, NULL, 4, NULL, NULL, NULL, NULL, NULL, NULL}      |5.0  |\n",
      "|{NULL, NULL, NULL, NULL, NULL, NULL, NULL, True, NULL, True, {'garage': False, 'street': False, 'validated': False, 'lot': True, 'valet': False}, NULL, NULL, NULL, NULL, NULL, NULL, NULL, NULL, NULL, NULL, NULL, NULL, NULL, NULL, NULL, NULL, NULL, NULL, NULL, NULL, NULL, 2, NULL, NULL, NULL, NULL, NULL, NULL}       |4.5  |\n",
      "|{NULL, NULL, NULL, NULL, NULL, NULL, NULL, True, NULL, True, {'garage': False, 'street': True, 'validated': False, 'lot': True, 'valet': False}, False, NULL, NULL, NULL, NULL, True, NULL, NULL, NULL, NULL, NULL, NULL, NULL, NULL, NULL, NULL, NULL, NULL, NULL, NULL, NULL, 3, NULL, NULL, NULL, NULL, True, u'no'}      |4.5  |\n",
      "|{NULL, NULL, NULL, NULL, NULL, NULL, NULL, NULL, NULL, True, NULL, NULL, NULL, NULL, NULL, NULL, NULL, NULL, NULL, NULL, NULL, NULL, NULL, NULL, NULL, NULL, NULL, NULL, NULL, NULL, NULL, NULL, NULL, NULL, NULL, NULL, NULL, NULL, NULL}                                                                                   |5.0  |\n",
      "|{NULL, NULL, NULL, NULL, NULL, NULL, NULL, True, NULL, True, {'garage': False, 'street': False, 'validated': False, 'lot': True, 'valet': False}, False, NULL, NULL, NULL, NULL, NULL, NULL, NULL, NULL, NULL, NULL, NULL, NULL, NULL, NULL, NULL, NULL, NULL, NULL, NULL, NULL, 2, NULL, NULL, NULL, NULL, NULL, NULL}      |4.5  |\n",
      "|{NULL, NULL, NULL, NULL, NULL, NULL, NULL, True, NULL, False, {'garage': False, 'street': False, 'validated': False, 'lot': True, 'valet': False}, NULL, NULL, NULL, NULL, NULL, NULL, NULL, NULL, NULL, NULL, NULL, NULL, NULL, NULL, NULL, NULL, NULL, NULL, NULL, NULL, NULL, 2, NULL, NULL, NULL, NULL, NULL, NULL}      |5.0  |\n",
      "|{NULL, NULL, NULL, NULL, NULL, NULL, NULL, NULL, NULL, True, {'garage': False, 'street': False, 'validated': False, 'lot': True, 'valet': False}, NULL, NULL, NULL, NULL, NULL, NULL, NULL, NULL, NULL, NULL, NULL, NULL, NULL, NULL, NULL, NULL, NULL, NULL, NULL, NULL, NULL, NULL, NULL, NULL, NULL, NULL, NULL, NULL}    |5.0  |\n",
      "|{NULL, NULL, NULL, NULL, NULL, NULL, NULL, True, NULL, True, {'garage': False, 'street': False, 'validated': False, 'lot': False, 'valet': False}, NULL, NULL, NULL, NULL, NULL, NULL, NULL, NULL, NULL, NULL, NULL, NULL, NULL, NULL, NULL, NULL, NULL, NULL, NULL, NULL, NULL, 3, NULL, NULL, NULL, NULL, NULL, NULL}      |4.5  |\n",
      "|{NULL, NULL, NULL, NULL, NULL, NULL, NULL, False, NULL, True, {'garage': False, 'street': False, 'validated': False, 'lot': True, 'valet': False}, NULL, NULL, NULL, NULL, NULL, NULL, NULL, NULL, NULL, NULL, NULL, NULL, NULL, NULL, NULL, NULL, NULL, NULL, NULL, NULL, NULL, 2, NULL, NULL, NULL, NULL, NULL, NULL}      |4.5  |\n",
      "|{NULL, NULL, NULL, NULL, NULL, NULL, NULL, True, NULL, True, {'garage': False, 'street': True, 'validated': False, 'lot': False, 'valet': False}, NULL, NULL, NULL, NULL, NULL, NULL, NULL, NULL, NULL, NULL, NULL, NULL, NULL, NULL, NULL, NULL, NULL, NULL, NULL, NULL, NULL, 2, NULL, NULL, NULL, NULL, NULL, NULL}       |5.0  |\n",
      "|{NULL, NULL, NULL, NULL, NULL, NULL, NULL, NULL, NULL, True, {'garage': False, 'street': False, 'validated': False, 'lot': True, 'valet': False}, NULL, NULL, NULL, NULL, NULL, NULL, NULL, NULL, NULL, NULL, NULL, NULL, NULL, NULL, NULL, NULL, NULL, NULL, NULL, NULL, NULL, 2, NULL, NULL, NULL, NULL, NULL, NULL}       |4.5  |\n",
      "|{NULL, NULL, NULL, NULL, NULL, NULL, NULL, NULL, False, True, NULL, True, NULL, NULL, NULL, NULL, NULL, NULL, NULL, NULL, NULL, NULL, NULL, NULL, NULL, NULL, NULL, NULL, NULL, NULL, NULL, NULL, NULL, NULL, NULL, NULL, NULL, NULL, NULL}                                                                                  |5.0  |\n",
      "|NULL                                                                                                                                                                                                                                                                                                                         |5.0  |\n",
      "|{NULL, NULL, NULL, NULL, NULL, NULL, NULL, True, NULL, True, {'garage': False, 'street': False, 'validated': False, 'lot': True, 'valet': False}, False, NULL, NULL, NULL, NULL, NULL, NULL, NULL, NULL, NULL, NULL, NULL, NULL, NULL, NULL, NULL, NULL, NULL, NULL, NULL, NULL, 2, NULL, NULL, NULL, NULL, True, NULL}      |4.5  |\n",
      "|{NULL, NULL, NULL, NULL, NULL, NULL, NULL, NULL, NULL, NULL, NULL, True, NULL, NULL, NULL, NULL, NULL, NULL, NULL, NULL, NULL, NULL, NULL, NULL, NULL, NULL, NULL, NULL, NULL, NULL, NULL, NULL, NULL, NULL, NULL, NULL, NULL, NULL, NULL}                                                                                   |4.5  |\n",
      "|{NULL, NULL, NULL, NULL, NULL, NULL, NULL, False, False, True, {'garage': False, 'street': False, 'validated': False, 'lot': True, 'valet': False}, False, NULL, NULL, NULL, NULL, False, NULL, NULL, NULL, NULL, NULL, NULL, NULL, NULL, NULL, NULL, NULL, NULL, NULL, NULL, NULL, NULL, NULL, NULL, NULL, NULL, True, NULL}|5.0  |\n",
      "|{NULL, NULL, NULL, NULL, NULL, NULL, NULL, False, NULL, True, {'garage': False, 'street': False, 'validated': False, 'lot': False, 'valet': False}, False, NULL, NULL, NULL, NULL, NULL, NULL, NULL, NULL, NULL, NULL, NULL, NULL, NULL, NULL, NULL, NULL, NULL, NULL, NULL, NULL, 2, NULL, NULL, NULL, NULL, NULL, NULL}    |5.0  |\n",
      "|{NULL, NULL, NULL, NULL, NULL, NULL, NULL, True, False, True, {'garage': False, 'street': False, 'validated': False, 'lot': True, 'valet': False}, NULL, NULL, NULL, NULL, NULL, True, NULL, NULL, NULL, NULL, NULL, NULL, NULL, NULL, NULL, NULL, NULL, NULL, NULL, NULL, NULL, 2, NULL, NULL, NULL, NULL, NULL, NULL}      |4.5  |\n",
      "+-----------------------------------------------------------------------------------------------------------------------------------------------------------------------------------------------------------------------------------------------------------------------------------------------------------------------------+-----+\n",
      "only showing top 20 rows\n",
      "\n"
     ]
    }
   ],
   "source": [
    "spark.sql('''\n",
    "select attributes, stars from shopping\n",
    "          where city='Tucson' and stars > 4\n",
    "            ''').show(truncate=False)\n"
   ]
  },
  {
   "cell_type": "code",
   "execution_count": 41,
   "metadata": {},
   "outputs": [],
   "source": [
    "buisness_by_city=spark.sql('''\n",
    "select  city, count(*) as business_count from shopping\n",
    "          group by city\n",
    "          order by business_count desc\n",
    "          ''')"
   ]
  },
  {
   "cell_type": "code",
   "execution_count": 42,
   "metadata": {},
   "outputs": [
    {
     "data": {
      "text/plain": [
       "[('city', 'string'), ('business_count', 'bigint')]"
      ]
     },
     "execution_count": 42,
     "metadata": {},
     "output_type": "execute_result"
    }
   ],
   "source": [
    "buisness_by_city.dtypes"
   ]
  },
  {
   "cell_type": "code",
   "execution_count": 45,
   "metadata": {},
   "outputs": [
    {
     "data": {
      "image/png": "[encoded data removed]",
      "text/plain": [
       "<Figure size 432x288 with 1 Axes>"
      ]
     },
     "metadata": {
      "needs_background": "light"
     },
     "output_type": "display_data"
    }
   ],
   "source": [
    "# plot the above data using matplotlib\n",
    "import matplotlib.pyplot as plt\n",
    "import pandas as pd\n",
    "\n",
    "buisness_by_city_df= buisness_by_city.toPandas()\n",
    "buisness_by_city_df.plot(kind='bar', x='city', y='business_count')\n",
    "plt.grid()\n",
    "plt.show()\n"
   ]
  },
  {
   "cell_type": "code",
   "execution_count": 86,
   "metadata": {},
   "outputs": [
    {
     "data": {
      "text/html": [
       "<div>\n",
       "<style scoped>\n",
       "    .dataframe tbody tr th:only-of-type {\n",
       "        vertical-align: middle;\n",
       "    }\n",
       "\n",
       "    .dataframe tbody tr th {\n",
       "        vertical-align: top;\n",
       "    }\n",
       "\n",
       "    .dataframe thead th {\n",
       "        text-align: right;\n",
       "    }\n",
       "</style>\n",
       "<table border=\"1\" class=\"dataframe\">\n",
       "  <thead>\n",
       "    <tr style=\"text-align: right;\">\n",
       "      <th></th>\n",
       "      <th>city</th>\n",
       "      <th>business_count</th>\n",
       "    </tr>\n",
       "  </thead>\n",
       "  <tbody>\n",
       "    <tr>\n",
       "      <th>0</th>\n",
       "      <td>Tucson</td>\n",
       "      <td>1669</td>\n",
       "    </tr>\n",
       "    <tr>\n",
       "      <th>1</th>\n",
       "      <td>Oro Valley</td>\n",
       "      <td>56</td>\n",
       "    </tr>\n",
       "    <tr>\n",
       "      <th>2</th>\n",
       "      <td>Marana</td>\n",
       "      <td>16</td>\n",
       "    </tr>\n",
       "    <tr>\n",
       "      <th>3</th>\n",
       "      <td>Green Valley</td>\n",
       "      <td>10</td>\n",
       "    </tr>\n",
       "    <tr>\n",
       "      <th>4</th>\n",
       "      <td>Sahuarita</td>\n",
       "      <td>9</td>\n",
       "    </tr>\n",
       "    <tr>\n",
       "      <th>5</th>\n",
       "      <td>Vail</td>\n",
       "      <td>5</td>\n",
       "    </tr>\n",
       "    <tr>\n",
       "      <th>6</th>\n",
       "      <td>Catalina</td>\n",
       "      <td>4</td>\n",
       "    </tr>\n",
       "    <tr>\n",
       "      <th>7</th>\n",
       "      <td>Mount Lemmon</td>\n",
       "      <td>2</td>\n",
       "    </tr>\n",
       "    <tr>\n",
       "      <th>8</th>\n",
       "      <td>Tuscon</td>\n",
       "      <td>2</td>\n",
       "    </tr>\n",
       "    <tr>\n",
       "      <th>9</th>\n",
       "      <td>Oracle</td>\n",
       "      <td>1</td>\n",
       "    </tr>\n",
       "  </tbody>\n",
       "</table>\n",
       "</div>"
      ],
      "text/plain": [
       "           city  business_count\n",
       "0        Tucson            1669\n",
       "1    Oro Valley              56\n",
       "2        Marana              16\n",
       "3  Green Valley              10\n",
       "4     Sahuarita               9\n",
       "5          Vail               5\n",
       "6      Catalina               4\n",
       "7  Mount Lemmon               2\n",
       "8        Tuscon               2\n",
       "9        Oracle               1"
      ]
     },
     "execution_count": 86,
     "metadata": {},
     "output_type": "execute_result"
    }
   ],
   "source": [
    "buisness_by_city_df.head(10)    "
   ]
  },
  {
   "cell_type": "code",
   "execution_count": 46,
   "metadata": {},
   "outputs": [
    {
     "name": "stdout",
     "output_type": "stream",
     "text": [
      "+--------------------+-----+------------+-----------+\n",
      "|                name|stars|review_count|postal_code|\n",
      "+--------------------+-----+------------+-----------+\n",
      "|Charlie's Comic B...|  5.0|          28|      85710|\n",
      "|Clarissa's Logo P...|  5.0|           9|      85714|\n",
      "|      Sacred Machine|  5.0|          10|      85701|\n",
      "|Arizona Flower Ma...|  5.0|          26|      85716|\n",
      "|Tucson's Loop Bic...|  5.0|           6|      85718|\n",
      "|       Ink by Hudson|  5.0|           5|      85756|\n",
      "|Mattress Firm Tuc...|  5.0|           6|      85710|\n",
      "|All American Eyeg...|  5.0|          25|      85719|\n",
      "|Free Ever After B...|  5.0|          11|      85711|\n",
      "|A To Z Stone and ...|  5.0|           8|      85713|\n",
      "|Expressions Art G...|  5.0|           5|      85710|\n",
      "|          LEO Armory|  5.0|           5|      85713|\n",
      "|Krikawa Jewelry D...|  5.0|          13|      85701|\n",
      "|   Creative Ventures|  5.0|           6|      85719|\n",
      "|Tremendez Jewelry...|  5.0|          54|      85719|\n",
      "+--------------------+-----+------------+-----------+\n",
      "only showing top 15 rows\n",
      "\n"
     ]
    }
   ],
   "source": [
    "# query for buisness names and their average ratings from tuscson city\n",
    "spark.sql('''\n",
    "select name  , stars , review_count, postal_code from shopping\n",
    "          where city='Tucson'\n",
    "          order by stars desc\n",
    "          ''').show(15)"
   ]
  },
  {
   "cell_type": "code",
   "execution_count": null,
   "metadata": {},
   "outputs": [
    {
     "data": {
      "image/png": "[encoded data removed]",
      "text/plain": [
       "<Figure size 432x288 with 1 Axes>"
      ]
     },
     "metadata": {
      "needs_background": "light"
     },
     "output_type": "display_data"
    }
   ],
   "source": [
    "# make a scatter plot of the above data\n",
    "tucson_df= spark.sql('''\n",
    "select name  , stars , review_count, postal_code from shopping\n",
    "          where city='Tucson'\n",
    "          order by stars desc\n",
    "          ''').toPandas()   \n",
    "\n",
    "tucson_df.plot(kind='scatter', x='stars', y='review_count', s=10)\n",
    "plt.title('Tucson Shopping')\n",
    "plt.grid()\n",
    "plt.show()\n"
   ]
  },
  {
   "cell_type": "code",
   "execution_count": 84,
   "metadata": {},
   "outputs": [
    {
     "data": {
      "text/html": [
       "<div>\n",
       "<style scoped>\n",
       "    .dataframe tbody tr th:only-of-type {\n",
       "        vertical-align: middle;\n",
       "    }\n",
       "\n",
       "    .dataframe tbody tr th {\n",
       "        vertical-align: top;\n",
       "    }\n",
       "\n",
       "    .dataframe thead th {\n",
       "        text-align: right;\n",
       "    }\n",
       "</style>\n",
       "<table border=\"1\" class=\"dataframe\">\n",
       "  <thead>\n",
       "    <tr style=\"text-align: right;\">\n",
       "      <th></th>\n",
       "      <th>name</th>\n",
       "      <th>stars</th>\n",
       "      <th>review_count</th>\n",
       "      <th>postal_code</th>\n",
       "    </tr>\n",
       "  </thead>\n",
       "  <tbody>\n",
       "    <tr>\n",
       "      <th>0</th>\n",
       "      <td>Colonial Frontiers</td>\n",
       "      <td>5.0</td>\n",
       "      <td>5</td>\n",
       "      <td>85719</td>\n",
       "    </tr>\n",
       "    <tr>\n",
       "      <th>1</th>\n",
       "      <td>Abc Resurfacing</td>\n",
       "      <td>5.0</td>\n",
       "      <td>7</td>\n",
       "      <td>85715</td>\n",
       "    </tr>\n",
       "    <tr>\n",
       "      <th>2</th>\n",
       "      <td>Diamond Lil's Vintage &amp; Gifts</td>\n",
       "      <td>5.0</td>\n",
       "      <td>8</td>\n",
       "      <td>85718</td>\n",
       "    </tr>\n",
       "    <tr>\n",
       "      <th>3</th>\n",
       "      <td>Ability Center</td>\n",
       "      <td>5.0</td>\n",
       "      <td>5</td>\n",
       "      <td>85705</td>\n",
       "    </tr>\n",
       "    <tr>\n",
       "      <th>4</th>\n",
       "      <td>ZOË Boutique</td>\n",
       "      <td>5.0</td>\n",
       "      <td>18</td>\n",
       "      <td>85719</td>\n",
       "    </tr>\n",
       "    <tr>\n",
       "      <th>5</th>\n",
       "      <td>Randy Prentice Piano Service</td>\n",
       "      <td>5.0</td>\n",
       "      <td>7</td>\n",
       "      <td>85716</td>\n",
       "    </tr>\n",
       "    <tr>\n",
       "      <th>6</th>\n",
       "      <td>Suncraft Beverages</td>\n",
       "      <td>5.0</td>\n",
       "      <td>5</td>\n",
       "      <td>85712</td>\n",
       "    </tr>\n",
       "    <tr>\n",
       "      <th>7</th>\n",
       "      <td>Mad Titan Toys</td>\n",
       "      <td>5.0</td>\n",
       "      <td>5</td>\n",
       "      <td>85712</td>\n",
       "    </tr>\n",
       "    <tr>\n",
       "      <th>8</th>\n",
       "      <td>Embellish Home</td>\n",
       "      <td>5.0</td>\n",
       "      <td>5</td>\n",
       "      <td>85715</td>\n",
       "    </tr>\n",
       "    <tr>\n",
       "      <th>9</th>\n",
       "      <td>Best Mattress</td>\n",
       "      <td>5.0</td>\n",
       "      <td>37</td>\n",
       "      <td>85705</td>\n",
       "    </tr>\n",
       "  </tbody>\n",
       "</table>\n",
       "</div>"
      ],
      "text/plain": [
       "                            name  stars  review_count postal_code\n",
       "0             Colonial Frontiers    5.0             5       85719\n",
       "1                Abc Resurfacing    5.0             7       85715\n",
       "2  Diamond Lil's Vintage & Gifts    5.0             8       85718\n",
       "3                 Ability Center    5.0             5       85705\n",
       "4                   ZOË Boutique    5.0            18       85719\n",
       "5   Randy Prentice Piano Service    5.0             7       85716\n",
       "6             Suncraft Beverages    5.0             5       85712\n",
       "7                 Mad Titan Toys    5.0             5       85712\n",
       "8                 Embellish Home    5.0             5       85715\n",
       "9                  Best Mattress    5.0            37       85705"
      ]
     },
     "execution_count": 84,
     "metadata": {},
     "output_type": "execute_result"
    }
   ],
   "source": [
    "tucson_df.head(10)"
   ]
  },
  {
   "cell_type": "code",
   "execution_count": 64,
   "metadata": {},
   "outputs": [
    {
     "data": {
      "image/png": "[encoded data removed]",
      "text/plain": [
       "<Figure size 432x288 with 1 Axes>"
      ]
     },
     "metadata": {
      "needs_background": "light"
     },
     "output_type": "display_data"
    }
   ],
   "source": [
    "postal_q=spark.sql('''\n",
    "select postal_code, count(*) as business_count from shopping \n",
    "          where city = 'Tucson'\n",
    "            group by postal_code\n",
    "          order by business_count desc\n",
    "          ''').toPandas()\n",
    "\n",
    "\n",
    "postal_q.plot(kind='bar', x='postal_code', y='business_count')\n",
    "plt.title('Number of businesses in each postal code in Tucson')\n",
    "plt.grid()\n",
    "plt.show()"
   ]
  },
  {
   "cell_type": "code",
   "execution_count": 85,
   "metadata": {},
   "outputs": [
    {
     "data": {
      "text/html": [
       "<div>\n",
       "<style scoped>\n",
       "    .dataframe tbody tr th:only-of-type {\n",
       "        vertical-align: middle;\n",
       "    }\n",
       "\n",
       "    .dataframe tbody tr th {\n",
       "        vertical-align: top;\n",
       "    }\n",
       "\n",
       "    .dataframe thead th {\n",
       "        text-align: right;\n",
       "    }\n",
       "</style>\n",
       "<table border=\"1\" class=\"dataframe\">\n",
       "  <thead>\n",
       "    <tr style=\"text-align: right;\">\n",
       "      <th></th>\n",
       "      <th>postal_code</th>\n",
       "      <th>business_count</th>\n",
       "    </tr>\n",
       "  </thead>\n",
       "  <tbody>\n",
       "    <tr>\n",
       "      <th>0</th>\n",
       "      <td>85705</td>\n",
       "      <td>253</td>\n",
       "    </tr>\n",
       "    <tr>\n",
       "      <th>1</th>\n",
       "      <td>85712</td>\n",
       "      <td>173</td>\n",
       "    </tr>\n",
       "    <tr>\n",
       "      <th>2</th>\n",
       "      <td>85711</td>\n",
       "      <td>170</td>\n",
       "    </tr>\n",
       "    <tr>\n",
       "      <th>3</th>\n",
       "      <td>85719</td>\n",
       "      <td>144</td>\n",
       "    </tr>\n",
       "    <tr>\n",
       "      <th>4</th>\n",
       "      <td>85710</td>\n",
       "      <td>132</td>\n",
       "    </tr>\n",
       "    <tr>\n",
       "      <th>5</th>\n",
       "      <td>85716</td>\n",
       "      <td>109</td>\n",
       "    </tr>\n",
       "    <tr>\n",
       "      <th>6</th>\n",
       "      <td>85741</td>\n",
       "      <td>105</td>\n",
       "    </tr>\n",
       "    <tr>\n",
       "      <th>7</th>\n",
       "      <td>85704</td>\n",
       "      <td>90</td>\n",
       "    </tr>\n",
       "    <tr>\n",
       "      <th>8</th>\n",
       "      <td>85718</td>\n",
       "      <td>77</td>\n",
       "    </tr>\n",
       "    <tr>\n",
       "      <th>9</th>\n",
       "      <td>85713</td>\n",
       "      <td>48</td>\n",
       "    </tr>\n",
       "  </tbody>\n",
       "</table>\n",
       "</div>"
      ],
      "text/plain": [
       "  postal_code  business_count\n",
       "0       85705             253\n",
       "1       85712             173\n",
       "2       85711             170\n",
       "3       85719             144\n",
       "4       85710             132\n",
       "5       85716             109\n",
       "6       85741             105\n",
       "7       85704              90\n",
       "8       85718              77\n",
       "9       85713              48"
      ]
     },
     "execution_count": 85,
     "metadata": {},
     "output_type": "execute_result"
    }
   ],
   "source": [
    "postal_q.head(10)"
   ]
  },
  {
   "cell_type": "code",
   "execution_count": 82,
   "metadata": {},
   "outputs": [
    {
     "data": {
      "image/png": "[encoded data removed]",
      "text/plain": [
       "<Figure size 432x288 with 1 Axes>"
      ]
     },
     "metadata": {
      "needs_background": "light"
     },
     "output_type": "display_data"
    }
   ],
   "source": [
    "# find the number of business with each rating in Tucson\n",
    "rating_q=spark.sql('''\n",
    "select stars,  count(*) as Buisness_count from shopping\n",
    "                   where city='Tucson'\n",
    "                   group by stars\n",
    "                   order by stars \n",
    "                   \n",
    "                   ''').toPandas()\n",
    "\n",
    "rating_q.plot(kind='bar',x='stars',y='Buisness_count')\n",
    "plt.title('Number of businesses with each rating in Tucson')\n",
    "plt.grid()\n",
    "plt.show()\n",
    "\n"
   ]
  },
  {
   "cell_type": "code",
   "execution_count": 87,
   "metadata": {},
   "outputs": [
    {
     "data": {
      "text/html": [
       "<div>\n",
       "<style scoped>\n",
       "    .dataframe tbody tr th:only-of-type {\n",
       "        vertical-align: middle;\n",
       "    }\n",
       "\n",
       "    .dataframe tbody tr th {\n",
       "        vertical-align: top;\n",
       "    }\n",
       "\n",
       "    .dataframe thead th {\n",
       "        text-align: right;\n",
       "    }\n",
       "</style>\n",
       "<table border=\"1\" class=\"dataframe\">\n",
       "  <thead>\n",
       "    <tr style=\"text-align: right;\">\n",
       "      <th></th>\n",
       "      <th>stars</th>\n",
       "      <th>Buisness_count</th>\n",
       "    </tr>\n",
       "  </thead>\n",
       "  <tbody>\n",
       "    <tr>\n",
       "      <th>0</th>\n",
       "      <td>1.0</td>\n",
       "      <td>11</td>\n",
       "    </tr>\n",
       "    <tr>\n",
       "      <th>1</th>\n",
       "      <td>1.5</td>\n",
       "      <td>41</td>\n",
       "    </tr>\n",
       "    <tr>\n",
       "      <th>2</th>\n",
       "      <td>2.0</td>\n",
       "      <td>105</td>\n",
       "    </tr>\n",
       "    <tr>\n",
       "      <th>3</th>\n",
       "      <td>2.5</td>\n",
       "      <td>159</td>\n",
       "    </tr>\n",
       "    <tr>\n",
       "      <th>4</th>\n",
       "      <td>3.0</td>\n",
       "      <td>222</td>\n",
       "    </tr>\n",
       "    <tr>\n",
       "      <th>5</th>\n",
       "      <td>3.5</td>\n",
       "      <td>281</td>\n",
       "    </tr>\n",
       "    <tr>\n",
       "      <th>6</th>\n",
       "      <td>4.0</td>\n",
       "      <td>339</td>\n",
       "    </tr>\n",
       "    <tr>\n",
       "      <th>7</th>\n",
       "      <td>4.5</td>\n",
       "      <td>307</td>\n",
       "    </tr>\n",
       "    <tr>\n",
       "      <th>8</th>\n",
       "      <td>5.0</td>\n",
       "      <td>204</td>\n",
       "    </tr>\n",
       "  </tbody>\n",
       "</table>\n",
       "</div>"
      ],
      "text/plain": [
       "   stars  Buisness_count\n",
       "0    1.0              11\n",
       "1    1.5              41\n",
       "2    2.0             105\n",
       "3    2.5             159\n",
       "4    3.0             222\n",
       "5    3.5             281\n",
       "6    4.0             339\n",
       "7    4.5             307\n",
       "8    5.0             204"
      ]
     },
     "execution_count": 87,
     "metadata": {},
     "output_type": "execute_result"
    }
   ],
   "source": [
    "rating_q.head(10)   "
   ]
  },
  {
   "cell_type": "code",
   "execution_count": 110,
   "metadata": {},
   "outputs": [
    {
     "data": {
      "image/png": "[encoded data removed]",
      "text/plain": [
       "<Figure size 432x288 with 1 Axes>"
      ]
     },
     "metadata": {
      "needs_background": "light"
     },
     "output_type": "display_data"
    }
   ],
   "source": [
    "# now check how many buisness are open and closed in Tucson\n",
    "open_q=spark.sql('''\n",
    "select is_open, count(*) as Buisness_count from shopping\n",
    "                   where city='Tucson'\n",
    "                   group by is_open\n",
    "                   order by is_open \n",
    "                   \n",
    "                   ''').toPandas()\n",
    "\n",
    "open_q.plot(kind='bar',x='is_open',y='Buisness_count')\n",
    "plt.title('Number of businesses open and closed in Tucson')\n",
    "plt.grid()\n",
    "plt.show()\n"
   ]
  }
 ],
 "metadata": {
  "kernelspec": {
   "display_name": "base",
   "language": "python",
   "name": "python3"
  },
  "language_info": {
   "codemirror_mode": {
    "name": "ipython",
    "version": 3
   },
   "file_extension": ".py",
   "mimetype": "text/x-python",
   "name": "python",
   "nbconvert_exporter": "python",
   "pygments_lexer": "ipython3",
   "version": "3.8.5"
  }
 },
 "nbformat": 4,
 "nbformat_minor": 2
}
